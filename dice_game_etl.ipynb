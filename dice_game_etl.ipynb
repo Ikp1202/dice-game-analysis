{
 "cells": [
  {
   "cell_type": "code",
   "execution_count": 22,
   "id": "5126672c-56d4-4cea-84e0-5232d3d04f19",
   "metadata": {},
   "outputs": [
    {
     "name": "stdout",
     "output_type": "stream",
     "text": [
      " pandas version: 2.3.1\n"
     ]
    }
   ],
   "source": [
    "import pandas as pd\n",
    "print(\" pandas version:\", pd.__version__)\n"
   ]
  },
  {
   "cell_type": "code",
   "execution_count": 8,
   "id": "a5adcfc6-8688-43e3-ba2d-894f90ff348b",
   "metadata": {},
   "outputs": [
    {
     "name": "stdout",
     "output_type": "stream",
     "text": [
      "   user_id       ip_address social_media_handle                   email\n",
      "0        1  192.168.192.126            lherring                     NaN\n",
      "1        2    172.18.54.245          jrodriguez  jrodriguez@example.com\n",
      "   play_session_id  user_id                 start_datetime  \\\n",
      "0                0      309  2024-12-11T12:26:22.670-06:00   \n",
      "1                1      179  2024-02-13T15:51:16.919-06:00   \n",
      "\n",
      "                    end_datetime channel_code status_code  total_score  \n",
      "0  2024-12-11T17:01:22.670-06:00      BROWSER   COMPLETED         1081  \n",
      "1  2024-02-13T22:17:16.919-06:00       MOBILE     ABORTED         4271  \n"
     ]
    }
   ],
   "source": [
    "import pandas as pd\n",
    "import os\n",
    "\n",
    "# Since notebook and CSVs are in the same folder\n",
    "data_path = \"./\"\n",
    "\n",
    "# Load all files\n",
    "user = pd.read_csv(os.path.join(data_path, \"user.csv\"))\n",
    "user_registration = pd.read_csv(os.path.join(data_path, \"user_registration.csv\"))\n",
    "user_plan = pd.read_csv(os.path.join(data_path, \"user_plan.csv\"))\n",
    "user_payment_detail = pd.read_csv(os.path.join(data_path, \"user_payment_detail.csv\"))\n",
    "user_play_session = pd.read_csv(os.path.join(data_path, \"user_play_session.csv\"))\n",
    "channel_code = pd.read_csv(os.path.join(data_path, \"channel_code.csv\"))\n",
    "status_code = pd.read_csv(os.path.join(data_path, \"status_code.csv\"))\n",
    "plan = pd.read_csv(os.path.join(data_path, \"plan.csv\"))\n",
    "\n",
    "\n",
    "# Preview to confirm\n",
    "print(user.head(2))\n",
    "print(user_play_session.head(2))\n"
   ]
  },
  {
   "cell_type": "code",
   "execution_count": 24,
   "id": "d9d0be2d-5c46-4a6f-958f-22a884777363",
   "metadata": {},
   "outputs": [
    {
     "data": {
      "text/plain": [
       "['.ipynb_checkpoints',\n",
       " 'channel_code.csv',\n",
       " 'dice_game_etl.ipynb',\n",
       " 'output',\n",
       " 'plan.csv',\n",
       " 'status_code.csv',\n",
       " 'user.csv',\n",
       " 'user_payment_detail.csv',\n",
       " 'user_plan.csv',\n",
       " 'user_play_session.csv',\n",
       " 'user_registration.csv']"
      ]
     },
     "execution_count": 24,
     "metadata": {},
     "output_type": "execute_result"
    }
   ],
   "source": [
    "import os\n",
    "os.listdir()\n"
   ]
  },
  {
   "cell_type": "code",
   "execution_count": 25,
   "id": "5ea27fe0-ee85-4944-9ec3-fefc0b16602d",
   "metadata": {},
   "outputs": [
    {
     "name": "stdout",
     "output_type": "stream",
     "text": [
      " Running Data Quality Checks...\n",
      "Missing values in fact_play — filling with 'Unknown'\n",
      "\n",
      " Insight 1: Online vs Mobile sessions\n",
      "english_description_x\n",
      "Browser               941\n",
      "Mobile application    931\n",
      "Name: count, dtype: int64\n",
      "\n",
      " Insight 2: Onetime vs Subscription Plans\n",
      "payment_frequency_code\n",
      "ONETIME     75\n",
      "MONTHLY     74\n",
      "ANNUALLY    66\n",
      "Name: count, dtype: int64\n",
      "\n",
      " Insight 3: Gross Revenue\n",
      "Total Revenue: $1,930.85\n",
      "\n",
      " All tables saved to ./output folder.\n"
     ]
    }
   ],
   "source": [
    "# STEP 1: Import libraries\n",
    "import pandas as pd\n",
    "import os\n",
    "\n",
    "# STEP 2: Load data\n",
    "data_path = \".\"\n",
    "\n",
    "user = pd.read_csv(os.path.join(data_path, \"user.csv\"))\n",
    "user_registration = pd.read_csv(os.path.join(data_path, \"user_registration.csv\"))\n",
    "user_plan = pd.read_csv(os.path.join(data_path, \"user_plan.csv\"))\n",
    "user_payment_detail = pd.read_csv(os.path.join(data_path, \"user_payment_detail.csv\"))\n",
    "user_play_session = pd.read_csv(os.path.join(data_path, \"user_play_session.csv\"))\n",
    "channel_code = pd.read_csv(os.path.join(data_path, \"channel_code.csv\"))\n",
    "status_code = pd.read_csv(os.path.join(data_path, \"status_code.csv\"))\n",
    "plan = pd.read_csv(os.path.join(data_path, \"plan.csv\"))\n",
    "\n",
    "# STEP 3: Create dimension tables\n",
    "dim_user = user.merge(user_registration, on=\"user_id\", how=\"left\")\n",
    "dim_user = dim_user[[\"user_id\", \"username\", \"first_name\", \"last_name\", \"email_y\", \"ip_address\", \"social_media_handle\"]]\n",
    "dim_user.rename(columns={\"email_y\": \"email\"}, inplace=True)\n",
    "\n",
    "dim_plan = plan.copy()\n",
    "dim_payment = user_payment_detail.copy()\n",
    "\n",
    "# STEP 4: Create fact tables\n",
    "fact_play = user_play_session \\\n",
    "    .merge(channel_code, left_on=\"channel_code\", right_on=\"play_session_channel_code\", how=\"left\") \\\n",
    "    .merge(status_code, left_on=\"status_code\", right_on=\"play_session_status_code\", how=\"left\") \\\n",
    "    .merge(user, on=\"user_id\", how=\"left\")\n",
    "\n",
    "fact_user_plan = user_plan \\\n",
    "    .merge(plan, on=\"plan_id\", how=\"left\") \\\n",
    "    .merge(user_payment_detail, on=\"payment_detail_id\", how=\"left\")\n",
    "\n",
    "# STEP 5: Data Quality Checks\n",
    "print(\" Running Data Quality Checks...\")\n",
    "assert dim_user['user_id'].is_unique, \" user_id not unique in dim_user\"\n",
    "\n",
    "if fact_play.isnull().sum().sum() > 0:\n",
    "    print(\"Missing values in fact_play — filling with 'Unknown'\")\n",
    "    fact_play.fillna(\"Unknown\", inplace=True)\n",
    "\n",
    "if fact_user_plan.isnull().sum().sum() > 0:\n",
    "    print(\"Missing values in fact_user_plan — filling with 'Unknown'\")\n",
    "    fact_user_plan.fillna(\"Unknown\", inplace=True)\n",
    "\n",
    "# STEP 6: Key Business Insights\n",
    "print(\"\\n Insight 1: Online vs Mobile sessions\")\n",
    "print(fact_play['english_description_x'].value_counts())\n",
    "\n",
    "print(\"\\n Insight 2: Onetime vs Subscription Plans\")\n",
    "print(fact_user_plan['payment_frequency_code'].value_counts())\n",
    "\n",
    "print(\"\\n Insight 3: Gross Revenue\")\n",
    "total_revenue = fact_user_plan[\"cost_amount\"].sum()\n",
    "print(f\"Total Revenue: ${total_revenue:,.2f}\")\n",
    "\n",
    "# STEP 7: Export to output\n",
    "output_path = \"./output\"\n",
    "os.makedirs(output_path, exist_ok=True)\n",
    "\n",
    "dim_user.to_csv(f\"{output_path}/dim_user.csv\", index=False)\n",
    "dim_plan.to_csv(f\"{output_path}/dim_plan.csv\", index=False)\n",
    "dim_payment.to_csv(f\"{output_path}/dim_payment.csv\", index=False)\n",
    "fact_play.to_csv(f\"{output_path}/fact_play.csv\", index=False)\n",
    "fact_user_plan.to_csv(f\"{output_path}/fact_user_plan.csv\", index=False)\n",
    "\n",
    "print(\"\\n All tables saved to ./output folder.\")\n",
    "\n",
    "\n"
   ]
  },
  {
   "cell_type": "code",
   "execution_count": null,
   "id": "268cb9eb-0073-4492-9e0e-6d4ab6946fcd",
   "metadata": {},
   "outputs": [],
   "source": []
  }
 ],
 "metadata": {
  "kernelspec": {
   "display_name": "Python 3 (ipykernel)",
   "language": "python",
   "name": "python3"
  },
  "language_info": {
   "codemirror_mode": {
    "name": "ipython",
    "version": 3
   },
   "file_extension": ".py",
   "mimetype": "text/x-python",
   "name": "python",
   "nbconvert_exporter": "python",
   "pygments_lexer": "ipython3",
   "version": "3.12.3"
  }
 },
 "nbformat": 4,
 "nbformat_minor": 5
}
